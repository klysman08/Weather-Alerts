{
 "cells": [
  {
   "cell_type": "markdown",
   "metadata": {
    "application/vnd.databricks.v1+cell": {
     "cellMetadata": {},
     "inputWidgets": {},
     "nuid": "97695a43-fd23-4d16-8b40-486f1cbee60e",
     "showTitle": false,
     "title": ""
    }
   },
   "source": [
    "## Leitura dos dados em ROW"
   ]
  },
  {
   "cell_type": "code",
   "execution_count": 0,
   "metadata": {
    "application/vnd.databricks.v1+cell": {
     "cellMetadata": {
      "byteLimit": 2048000,
      "rowLimit": 10000
     },
     "inputWidgets": {},
     "nuid": "4e33619a-4399-4d20-b194-bbce5870dca9",
     "showTitle": false,
     "title": ""
    }
   },
   "outputs": [],
   "source": [
    "import requests\n",
    "\n",
    "# URL to fetch the weather alerts\n",
    "url = \"https://alerts.weather.gov/cap/us.php?x=0\"\n",
    "\n",
    "# Fetch the data from the API\n",
    "response = requests.get(url)\n",
    "xml_data = response.content\n"
   ]
  },
  {
   "cell_type": "code",
   "execution_count": 0,
   "metadata": {
    "application/vnd.databricks.v1+cell": {
     "cellMetadata": {
      "byteLimit": 2048000,
      "rowLimit": 10000
     },
     "inputWidgets": {},
     "nuid": "14c207a6-1fdb-49a3-8dcc-84b008b4813a",
     "showTitle": false,
     "title": ""
    }
   },
   "outputs": [],
   "source": [
    "import xml.etree.ElementTree as ET\n",
    "\n",
    "# Parse the XML data\n",
    "root = ET.fromstring(xml_data)\n"
   ]
  },
  {
   "cell_type": "code",
   "execution_count": 0,
   "metadata": {
    "application/vnd.databricks.v1+cell": {
     "cellMetadata": {
      "byteLimit": 2048000,
      "rowLimit": 10000
     },
     "inputWidgets": {},
     "nuid": "bdf53d1a-540e-4e41-b6ef-e939dfeef0ad",
     "showTitle": false,
     "title": ""
    }
   },
   "outputs": [],
   "source": [
    "# Define a namespace dictionary to handle namespaces in the XML\n",
    "namespaces = {'atom': 'http://www.w3.org/2005/Atom', 'cap': 'urn:oasis:names:tc:emergency:cap:1.2'}\n",
    "\n",
    "# Extract relevant data into a list of dictionaries\n",
    "alerts = []\n",
    "for entry in root.findall('atom:entry', namespaces):\n",
    "    alert = {\n",
    "        'id': entry.find('atom:id', namespaces).text,\n",
    "        'updated': entry.find('atom:updated', namespaces).text,\n",
    "        'published': entry.find('atom:published', namespaces).text,\n",
    "        'title': entry.find('atom:title', namespaces).text,\n",
    "        'summary': entry.find('atom:summary', namespaces).text,\n",
    "        'event': entry.find('cap:event', namespaces).text if entry.find('cap:event', namespaces) is not None else None,\n",
    "        'sent': entry.find('cap:sent', namespaces).text if entry.find('cap:sent', namespaces) is not None else None,\n",
    "        'effective': entry.find('cap:effective', namespaces).text if entry.find('cap:effective', namespaces) is not None else None,\n",
    "        'expires': entry.find('cap:expires', namespaces).text if entry.find('cap:expires', namespaces) is not None else None,\n",
    "        'status': entry.find('cap:status', namespaces).text if entry.find('cap:status', namespaces) is not None else None,\n",
    "        'msgType': entry.find('cap:msgType', namespaces).text if entry.find('cap:msgType', namespaces) is not None else None,\n",
    "        'category': entry.find('cap:category', namespaces).text if entry.find('cap:category', namespaces) is not None else None,\n",
    "        'urgency': entry.find('cap:urgency', namespaces).text if entry.find('cap:urgency', namespaces) is not None else None,\n",
    "        'severity': entry.find('cap:severity', namespaces).text if entry.find('cap:severity', namespaces) is not None else None,\n",
    "        'certainty': entry.find('cap:certainty', namespaces).text if entry.find('cap:certainty', namespaces) is not None else None,\n",
    "        'areaDesc': entry.find('cap:areaDesc', namespaces).text if entry.find('cap:areaDesc', namespaces) is not None else None,\n",
    "        'polygon': entry.find('cap:polygon', namespaces).text if entry.find('cap:polygon', namespaces) is not None else None,\n",
    "        # Add more fields as needed\n",
    "    }\n",
    "    alerts.append(alert)\n"
   ]
  },
  {
   "cell_type": "code",
   "execution_count": 0,
   "metadata": {
    "application/vnd.databricks.v1+cell": {
     "cellMetadata": {
      "byteLimit": 2048000,
      "rowLimit": 10000
     },
     "inputWidgets": {},
     "nuid": "f4091d6e-1f87-415f-96ec-74f015b3ef87",
     "showTitle": false,
     "title": ""
    }
   },
   "outputs": [
    {
     "output_type": "stream",
     "name": "stdout",
     "output_type": "stream",
     "text": [
      "+--------------------+--------------------+--------------------+--------------------+--------------------+--------------------+--------------------+--------------------+--------------------+------+-------+--------+---------+--------+---------+--------------------+--------------------+\n|                  id|             updated|           published|               title|             summary|               event|                sent|           effective|             expires|status|msgType|category|  urgency|severity|certainty|            areaDesc|             polygon|\n+--------------------+--------------------+--------------------+--------------------+--------------------+--------------------+--------------------+--------------------+--------------------+------+-------+--------+---------+--------+---------+--------------------+--------------------+\n|https://api.weath...|2024-06-30T19:18:...|2024-06-30T19:18:...|Severe Thundersto...|SVRAKQ\\n\\nThe Nat...|Severe Thundersto...|2024-06-30T19:18:...|2024-06-30T19:18:...|2024-06-30T19:45:...|Actual|  Alert|     Met|Immediate|  Severe| Observed|Caroline, VA; Han...|37.86,-77.59 37.9...|\n|https://api.weath...|2024-06-30T19:17:...|2024-06-30T19:17:...|Severe Thundersto...|At 716 PM EDT, a ...|Severe Thundersto...|2024-06-30T19:17:...|2024-06-30T19:17:...|2024-06-30T19:30:...|Actual| Update|     Met|Immediate|  Severe| Observed|        Monmouth, NJ|40.13,-73.98 40.2...|\n|https://api.weath...|2024-06-30T17:16:...|2024-06-30T17:16:...|Severe Thundersto...|SVRBYZ\\n\\nThe Nat...|Severe Thundersto...|2024-06-30T17:16:...|2024-06-30T17:16:...|2024-06-30T17:45:...|Actual|  Alert|     Met|Immediate|  Severe| Observed|Golden Valley, MT...|45.99,-109.98 46....|\n|https://api.weath...|2024-06-30T18:16:...|2024-06-30T18:16:...|Special Weather S...|At 616 PM CDT, Do...|Special Weather S...|2024-06-30T18:16:...|2024-06-30T18:16:...|2024-06-30T18:45:...|Actual|  Alert|     Met| Expected|Moderate| Observed|Richland; Madison...|32.54,-91.26 32.5...|\n|https://api.weath...|2024-06-30T19:14:...|2024-06-30T19:14:...|Severe Thundersto...|SVRLWX\\n\\nThe Nat...|Severe Thundersto...|2024-06-30T19:14:...|2024-06-30T19:14:...|2024-06-30T19:45:...|Actual|  Alert|     Met|Immediate|  Severe| Observed|Cecil, MD; Harfor...|39.54,-76.04 39.5...|\n|https://api.weath...|2024-06-30T19:14:...|2024-06-30T19:14:...|Special Weather S...|At 713 PM EDT, Do...|Special Weather S...|2024-06-30T19:14:...|2024-06-30T19:14:...|2024-06-30T19:45:...|Actual|  Alert|     Met| Expected|Moderate| Observed|Northern Litchfie...|41.82,-73.9 41.95...|\n|https://api.weath...|2024-06-30T19:13:...|2024-06-30T19:13:...|Severe Thundersto...|At 713 PM EDT, a ...|Severe Thundersto...|2024-06-30T19:13:...|2024-06-30T19:13:...|2024-06-30T19:45:...|Actual| Update|     Met|Immediate|  Severe| Observed|    Anne Arundel, MD|39,-76.4 38.96,-7...|\n|https://api.weath...|2024-06-30T17:11:...|2024-06-30T17:11:...|Special Weather S...|At 511 PM MDT, Do...|Special Weather S...|2024-06-30T17:11:...|2024-06-30T17:11:...|2024-06-30T17:45:...|Actual|  Alert|     Met| Expected|Moderate| Observed|Uncompahgre Plate...|37.8,-108.35 37.8...|\n|https://api.weath...|2024-06-30T17:11:...|2024-06-30T17:11:...|Special Weather S...|At 510 PM MDT, Do...|Special Weather S...|2024-06-30T17:11:...|2024-06-30T17:11:...|2024-06-30T18:00:...|Actual|  Alert|     Met| Expected|Moderate| Observed|Kootenai/Cabinet ...|48.5,-115.38 47.6...|\n|https://api.weath...|2024-06-30T23:10:...|2024-06-30T23:10:...|                null|Monitoring messag...|        Test Message|2024-06-30T23:10:...|2024-06-30T23:10:...|2024-06-30T23:20:...|  Test|  Alert|     Met|  Unknown| Unknown|  Unknown|          Montgomery|                null|\n|https://api.weath...|2024-06-30T19:10:...|2024-06-30T19:10:...|Severe Thundersto...|At 710 PM EDT, se...|Severe Thundersto...|2024-06-30T19:10:...|2024-06-30T19:10:...|2024-06-30T19:45:...|Actual| Update|     Met|Immediate|  Severe| Observed|Atlantic, NJ; Bur...|39.39,-74.26 39.4...|\n|https://api.weath...|2024-06-30T17:09:...|2024-06-30T17:09:...|Severe Thundersto...|SVREPZ\\n\\nThe Nat...|Severe Thundersto...|2024-06-30T17:09:...|2024-06-30T17:09:...|2024-06-30T17:45:...|Actual|  Alert|     Met|Immediate|  Severe| Observed|          Sierra, NM|33.14,-107.11 33....|\n|https://api.weath...|2024-06-30T17:09:...|2024-06-30T17:09:...|Severe Thundersto...|SVRUNR\\n\\nThe Nat...|Severe Thundersto...|2024-06-30T17:09:...|2024-06-30T17:09:...|2024-06-30T18:00:...|Actual|  Alert|     Met|Immediate|  Severe| Observed|          Weston, WY|43.51,-104.88 43....|\n|https://api.weath...|2024-06-30T19:08:...|2024-06-30T19:08:...|Severe Thundersto...|At 707 PM EDT, se...|Severe Thundersto...|2024-06-30T19:08:...|2024-06-30T19:08:...|2024-06-30T19:45:...|Actual| Update|     Met|Immediate|  Severe| Observed|Camden, NC; Curri...|36.17,-75.91 36.1...|\n|https://api.weath...|2024-06-30T19:08:...|2024-06-30T19:08:...|Severe Thundersto...|SVRLWX\\n\\nThe Nat...|Severe Thundersto...|2024-06-30T19:08:...|2024-06-30T19:08:...|2024-06-30T20:15:...|Actual|  Alert|     Met|Immediate|  Severe| Observed|           Cecil, MD|39.72,-75.79 39.4...|\n|https://api.weath...|2024-06-30T17:08:...|2024-06-30T17:08:...|Special Weather S...|At 508 PM MDT, Do...|Special Weather S...|2024-06-30T17:08:...|2024-06-30T17:08:...|2024-06-30T17:45:...|Actual|  Alert|     Met| Expected|Moderate| Observed|Converse County L...|43.37,-104.64 43....|\n|https://api.weath...|2024-06-30T17:07:...|2024-06-30T17:07:...|Special Weather S...|At 507 PM MDT, Do...|Special Weather S...|2024-06-30T17:07:...|2024-06-30T17:07:...|2024-06-30T17:30:...|Actual|  Alert|     Met| Expected|Moderate| Observed|Paradise Valley; ...|45.27,-110.66 45....|\n|https://api.weath...|2024-06-30T16:05:...|2024-06-30T16:05:...|Severe Thundersto...|SVRTWC\\n\\nThe Nat...|Severe Thundersto...|2024-06-30T16:05:...|2024-06-30T16:05:...|2024-06-30T16:45:...|Actual|  Alert|     Met|Immediate|  Severe| Observed|         Cochise, AZ|31.79,-109.95 31....|\n|https://api.weath...|2024-06-30T19:02:...|2024-06-30T19:02:...|Special Weather S...|At 702 PM EDT, Do...|Special Weather S...|2024-06-30T19:02:...|2024-06-30T19:02:...|2024-06-30T20:00:...|Actual|  Alert|     Met| Expected|Moderate| Observed|McDowell Mountain...|35.63,-82.17 35.6...|\n|https://api.weath...|2024-06-30T17:01:...|2024-06-30T17:01:...|Special Weather S...|At 501 PM MDT, Do...|Special Weather S...|2024-06-30T17:01:...|2024-06-30T17:01:...|2024-06-30T17:30:...|Actual|  Alert|     Met| Expected|Moderate| Observed|        Powder River|45.72,-105.1 45.3...|\n+--------------------+--------------------+--------------------+--------------------+--------------------+--------------------+--------------------+--------------------+--------------------+------+-------+--------+---------+--------+---------+--------------------+--------------------+\nonly showing top 20 rows\n\n"
     ]
    }
   ],
   "source": [
    "from pyspark.sql import SparkSession\n",
    "from pyspark.sql.types import StructType, StructField, StringType\n",
    "\n",
    "# Initialize Spark session\n",
    "spark = SparkSession.builder \\\n",
    "    .appName(\"Weather Alerts with FIPS6 Mapping\") \\\n",
    "    .getOrCreate()\n",
    "\n",
    "# Define the schema for the DataFrame\n",
    "schema = StructType([\n",
    "    StructField(\"id\", StringType(), True),\n",
    "    StructField(\"updated\", StringType(), True),\n",
    "    StructField(\"published\", StringType(), True),\n",
    "    StructField(\"title\", StringType(), True),\n",
    "    StructField(\"summary\", StringType(), True),\n",
    "    StructField(\"event\", StringType(), True),\n",
    "    StructField(\"sent\", StringType(), True),\n",
    "    StructField(\"effective\", StringType(), True),\n",
    "    StructField(\"expires\", StringType(), True),\n",
    "    StructField(\"status\", StringType(), True),\n",
    "    StructField(\"msgType\", StringType(), True),\n",
    "    StructField(\"category\", StringType(), True),\n",
    "    StructField(\"urgency\", StringType(), True),\n",
    "    StructField(\"severity\", StringType(), True),\n",
    "    StructField(\"certainty\", StringType(), True),\n",
    "    StructField(\"areaDesc\", StringType(), True),\n",
    "    StructField(\"polygon\", StringType(), True),\n",
    "    # Add more fields as needed\n",
    "])\n",
    "\n",
    "# Convert the list of dictionaries to a DataFrame\n",
    "alerts_df = spark.createDataFrame(alerts, schema)\n",
    "\n",
    "# Show the DataFrame\n",
    "alerts_df.show()\n"
   ]
  },
  {
   "cell_type": "markdown",
   "metadata": {
    "application/vnd.databricks.v1+cell": {
     "cellMetadata": {},
     "inputWidgets": {},
     "nuid": "6138494f-638c-46dd-a395-cfcb517881e2",
     "showTitle": false,
     "title": ""
    }
   },
   "source": [
    "## Dataframe Pandas"
   ]
  },
  {
   "cell_type": "code",
   "execution_count": 0,
   "metadata": {
    "application/vnd.databricks.v1+cell": {
     "cellMetadata": {
      "byteLimit": 2048000,
      "rowLimit": 10000
     },
     "inputWidgets": {},
     "nuid": "a169dd93-0407-4d47-bcb5-f92f475c8962",
     "showTitle": false,
     "title": ""
    }
   },
   "outputs": [
    {
     "output_type": "display_data",
     "data": {
      "text/html": [
       "<div>\n",
       "<style scoped>\n",
       "    .dataframe tbody tr th:only-of-type {\n",
       "        vertical-align: middle;\n",
       "    }\n",
       "\n",
       "    .dataframe tbody tr th {\n",
       "        vertical-align: top;\n",
       "    }\n",
       "\n",
       "    .dataframe thead th {\n",
       "        text-align: right;\n",
       "    }\n",
       "</style>\n",
       "<table border=\"1\" class=\"dataframe\">\n",
       "  <thead>\n",
       "    <tr style=\"text-align: right;\">\n",
       "      <th></th>\n",
       "      <th>id</th>\n",
       "      <th>updated</th>\n",
       "      <th>published</th>\n",
       "      <th>title</th>\n",
       "      <th>summary</th>\n",
       "      <th>event</th>\n",
       "      <th>sent</th>\n",
       "      <th>effective</th>\n",
       "      <th>expires</th>\n",
       "      <th>status</th>\n",
       "      <th>msgType</th>\n",
       "      <th>category</th>\n",
       "      <th>urgency</th>\n",
       "      <th>severity</th>\n",
       "      <th>certainty</th>\n",
       "      <th>areaDesc</th>\n",
       "      <th>polygon</th>\n",
       "    </tr>\n",
       "  </thead>\n",
       "  <tbody>\n",
       "    <tr>\n",
       "      <th>0</th>\n",
       "      <td>https://api.weather.gov/alerts/urn:oid:2.49.0....</td>\n",
       "      <td>2024-06-30T19:18:00-04:00</td>\n",
       "      <td>2024-06-30T19:18:00-04:00</td>\n",
       "      <td>Severe Thunderstorm Warning issued June 30 at ...</td>\n",
       "      <td>SVRAKQ\\n\\nThe National Weather Service in Wake...</td>\n",
       "      <td>Severe Thunderstorm Warning</td>\n",
       "      <td>2024-06-30T19:18:00-04:00</td>\n",
       "      <td>2024-06-30T19:18:00-04:00</td>\n",
       "      <td>2024-06-30T19:45:00-04:00</td>\n",
       "      <td>Actual</td>\n",
       "      <td>Alert</td>\n",
       "      <td>Met</td>\n",
       "      <td>Immediate</td>\n",
       "      <td>Severe</td>\n",
       "      <td>Observed</td>\n",
       "      <td>Caroline, VA; Hanover, VA</td>\n",
       "      <td>37.86,-77.59 37.95,-77.4599999 37.81,-77.33 37...</td>\n",
       "    </tr>\n",
       "    <tr>\n",
       "      <th>1</th>\n",
       "      <td>https://api.weather.gov/alerts/urn:oid:2.49.0....</td>\n",
       "      <td>2024-06-30T19:17:00-04:00</td>\n",
       "      <td>2024-06-30T19:17:00-04:00</td>\n",
       "      <td>Severe Thunderstorm Warning issued June 30 at ...</td>\n",
       "      <td>At 716 PM EDT, a severe thunderstorm was locat...</td>\n",
       "      <td>Severe Thunderstorm Warning</td>\n",
       "      <td>2024-06-30T19:17:00-04:00</td>\n",
       "      <td>2024-06-30T19:17:00-04:00</td>\n",
       "      <td>2024-06-30T19:30:00-04:00</td>\n",
       "      <td>Actual</td>\n",
       "      <td>Update</td>\n",
       "      <td>Met</td>\n",
       "      <td>Immediate</td>\n",
       "      <td>Severe</td>\n",
       "      <td>Observed</td>\n",
       "      <td>Monmouth, NJ</td>\n",
       "      <td>40.13,-73.98 40.22,-74.29 40.25,-74.34 40.43,-...</td>\n",
       "    </tr>\n",
       "    <tr>\n",
       "      <th>2</th>\n",
       "      <td>https://api.weather.gov/alerts/urn:oid:2.49.0....</td>\n",
       "      <td>2024-06-30T17:16:00-06:00</td>\n",
       "      <td>2024-06-30T17:16:00-06:00</td>\n",
       "      <td>Severe Thunderstorm Warning issued June 30 at ...</td>\n",
       "      <td>SVRBYZ\\n\\nThe National Weather Service in Bill...</td>\n",
       "      <td>Severe Thunderstorm Warning</td>\n",
       "      <td>2024-06-30T17:16:00-06:00</td>\n",
       "      <td>2024-06-30T17:16:00-06:00</td>\n",
       "      <td>2024-06-30T17:45:00-06:00</td>\n",
       "      <td>Actual</td>\n",
       "      <td>Alert</td>\n",
       "      <td>Met</td>\n",
       "      <td>Immediate</td>\n",
       "      <td>Severe</td>\n",
       "      <td>Observed</td>\n",
       "      <td>Golden Valley, MT; Sweet Grass, MT; Wheatland, MT</td>\n",
       "      <td>45.99,-109.98 46.13,-110.2 46.61,-109.67 46.39...</td>\n",
       "    </tr>\n",
       "    <tr>\n",
       "      <th>3</th>\n",
       "      <td>https://api.weather.gov/alerts/urn:oid:2.49.0....</td>\n",
       "      <td>2024-06-30T18:16:00-05:00</td>\n",
       "      <td>2024-06-30T18:16:00-05:00</td>\n",
       "      <td>Special Weather Statement issued June 30 at 6:...</td>\n",
       "      <td>At 616 PM CDT, Doppler radar was tracking stro...</td>\n",
       "      <td>Special Weather Statement</td>\n",
       "      <td>2024-06-30T18:16:00-05:00</td>\n",
       "      <td>2024-06-30T18:16:00-05:00</td>\n",
       "      <td>2024-06-30T18:45:00-05:00</td>\n",
       "      <td>Actual</td>\n",
       "      <td>Alert</td>\n",
       "      <td>Met</td>\n",
       "      <td>Expected</td>\n",
       "      <td>Moderate</td>\n",
       "      <td>Observed</td>\n",
       "      <td>Richland; Madison; Franklin; Tensas; Issaquena...</td>\n",
       "      <td>32.54,-91.26 32.54,-91.13 32.56,-91.11 32.56,-...</td>\n",
       "    </tr>\n",
       "    <tr>\n",
       "      <th>4</th>\n",
       "      <td>https://api.weather.gov/alerts/urn:oid:2.49.0....</td>\n",
       "      <td>2024-06-30T19:14:00-04:00</td>\n",
       "      <td>2024-06-30T19:14:00-04:00</td>\n",
       "      <td>Severe Thunderstorm Warning issued June 30 at ...</td>\n",
       "      <td>SVRLWX\\n\\nThe National Weather Service in Ster...</td>\n",
       "      <td>Severe Thunderstorm Warning</td>\n",
       "      <td>2024-06-30T19:14:00-04:00</td>\n",
       "      <td>2024-06-30T19:14:00-04:00</td>\n",
       "      <td>2024-06-30T19:45:00-04:00</td>\n",
       "      <td>Actual</td>\n",
       "      <td>Alert</td>\n",
       "      <td>Met</td>\n",
       "      <td>Immediate</td>\n",
       "      <td>Severe</td>\n",
       "      <td>Observed</td>\n",
       "      <td>Cecil, MD; Harford, MD</td>\n",
       "      <td>39.54,-76.04 39.54,-76.06 39.49,-76.11 39.45,-...</td>\n",
       "    </tr>\n",
       "    <tr>\n",
       "      <th>...</th>\n",
       "      <td>...</td>\n",
       "      <td>...</td>\n",
       "      <td>...</td>\n",
       "      <td>...</td>\n",
       "      <td>...</td>\n",
       "      <td>...</td>\n",
       "      <td>...</td>\n",
       "      <td>...</td>\n",
       "      <td>...</td>\n",
       "      <td>...</td>\n",
       "      <td>...</td>\n",
       "      <td>...</td>\n",
       "      <td>...</td>\n",
       "      <td>...</td>\n",
       "      <td>...</td>\n",
       "      <td>...</td>\n",
       "      <td>...</td>\n",
       "    </tr>\n",
       "    <tr>\n",
       "      <th>292</th>\n",
       "      <td>https://api.weather.gov/alerts/urn:oid:2.49.0....</td>\n",
       "      <td>2024-06-30T03:32:00-04:00</td>\n",
       "      <td>2024-06-30T03:32:00-04:00</td>\n",
       "      <td>Rip Current Statement issued June 30 at 3:32AM...</td>\n",
       "      <td>* WHAT...Dangerous rip currents.\\n\\n* WHERE......</td>\n",
       "      <td>Rip Current Statement</td>\n",
       "      <td>2024-06-30T03:32:00-04:00</td>\n",
       "      <td>2024-06-30T03:32:00-04:00</td>\n",
       "      <td>2024-06-30T11:45:00-04:00</td>\n",
       "      <td>Actual</td>\n",
       "      <td>Alert</td>\n",
       "      <td>Met</td>\n",
       "      <td>Expected</td>\n",
       "      <td>Moderate</td>\n",
       "      <td>Likely</td>\n",
       "      <td>Coastal Gulf</td>\n",
       "      <td>None</td>\n",
       "    </tr>\n",
       "    <tr>\n",
       "      <th>293</th>\n",
       "      <td>https://api.weather.gov/alerts/urn:oid:2.49.0....</td>\n",
       "      <td>2024-06-29T18:52:00-05:00</td>\n",
       "      <td>2024-06-29T18:52:00-05:00</td>\n",
       "      <td>Heat Advisory issued June 29 at 6:52PM CDT unt...</td>\n",
       "      <td>* WHAT...Heat index values up to 112 expected....</td>\n",
       "      <td>Heat Advisory</td>\n",
       "      <td>2024-06-29T18:52:00-05:00</td>\n",
       "      <td>2024-06-29T18:52:00-05:00</td>\n",
       "      <td>2024-06-30T03:00:00-05:00</td>\n",
       "      <td>Actual</td>\n",
       "      <td>Update</td>\n",
       "      <td>Met</td>\n",
       "      <td>Expected</td>\n",
       "      <td>Moderate</td>\n",
       "      <td>Likely</td>\n",
       "      <td>Williamson; Hays; Travis; Bastrop; Lee; Bexar;...</td>\n",
       "      <td>None</td>\n",
       "    </tr>\n",
       "    <tr>\n",
       "      <th>294</th>\n",
       "      <td>https://api.weather.gov/alerts/urn:oid:2.49.0....</td>\n",
       "      <td>2024-06-28T22:52:00-07:00</td>\n",
       "      <td>2024-06-28T22:52:00-07:00</td>\n",
       "      <td>Air Quality Alert issued June 28 at 10:52PM MS...</td>\n",
       "      <td>AQAPSR\\n\\nThe Arizona Department of Environmen...</td>\n",
       "      <td>Air Quality Alert</td>\n",
       "      <td>2024-06-28T22:52:00-07:00</td>\n",
       "      <td>2024-06-28T22:52:00-07:00</td>\n",
       "      <td>2024-06-30T21:00:00-07:00</td>\n",
       "      <td>Actual</td>\n",
       "      <td>Alert</td>\n",
       "      <td>Met</td>\n",
       "      <td>Unknown</td>\n",
       "      <td>Unknown</td>\n",
       "      <td>Unknown</td>\n",
       "      <td>Maricopa, AZ</td>\n",
       "      <td>None</td>\n",
       "    </tr>\n",
       "    <tr>\n",
       "      <th>295</th>\n",
       "      <td>https://api.weather.gov/alerts/urn:oid:2.49.0....</td>\n",
       "      <td>2024-06-28T09:04:00-07:00</td>\n",
       "      <td>2024-06-28T09:04:00-07:00</td>\n",
       "      <td>Air Quality Alert issued June 28 at 9:04AM MST...</td>\n",
       "      <td>AQAPSR\\n\\nThe Arizona Department of Environmen...</td>\n",
       "      <td>Air Quality Alert</td>\n",
       "      <td>2024-06-28T09:04:00-07:00</td>\n",
       "      <td>2024-06-28T09:04:00-07:00</td>\n",
       "      <td>2024-06-30T21:00:00-07:00</td>\n",
       "      <td>Actual</td>\n",
       "      <td>Alert</td>\n",
       "      <td>Met</td>\n",
       "      <td>Unknown</td>\n",
       "      <td>Unknown</td>\n",
       "      <td>Unknown</td>\n",
       "      <td>Maricopa, AZ</td>\n",
       "      <td>None</td>\n",
       "    </tr>\n",
       "    <tr>\n",
       "      <th>296</th>\n",
       "      <td>https://api.weather.gov/alerts/urn:oid:2.49.0....</td>\n",
       "      <td>2024-06-27T16:00:00-07:00</td>\n",
       "      <td>2024-06-27T16:00:00-07:00</td>\n",
       "      <td>Air Quality Alert issued June 27 at 4:00PM PDT...</td>\n",
       "      <td>ISSUED:  06/27/2024 09:00\\nEXPIRES: 07/01/2024...</td>\n",
       "      <td>Air Quality Alert</td>\n",
       "      <td>2024-06-27T16:00:00-07:00</td>\n",
       "      <td>2024-06-27T16:00:00-07:00</td>\n",
       "      <td>2024-07-01T11:00:00-07:00</td>\n",
       "      <td>Actual</td>\n",
       "      <td>Alert</td>\n",
       "      <td>Met</td>\n",
       "      <td>Unknown</td>\n",
       "      <td>Unknown</td>\n",
       "      <td>Unknown</td>\n",
       "      <td>Fresno, CA; Kern, CA; Madera, CA; Tulare, CA</td>\n",
       "      <td>None</td>\n",
       "    </tr>\n",
       "  </tbody>\n",
       "</table>\n",
       "<p>297 rows × 17 columns</p>\n",
       "</div>"
      ]
     },
     "metadata": {
      "application/vnd.databricks.v1+output": {
       "addedWidgets": {},
       "arguments": {},
       "data": "<div>\n<style scoped>\n    .dataframe tbody tr th:only-of-type {\n        vertical-align: middle;\n    }\n\n    .dataframe tbody tr th {\n        vertical-align: top;\n    }\n\n    .dataframe thead th {\n        text-align: right;\n    }\n</style>\n<table border=\"1\" class=\"dataframe\">\n  <thead>\n    <tr style=\"text-align: right;\">\n      <th></th>\n      <th>id</th>\n      <th>updated</th>\n      <th>published</th>\n      <th>title</th>\n      <th>summary</th>\n      <th>event</th>\n      <th>sent</th>\n      <th>effective</th>\n      <th>expires</th>\n      <th>status</th>\n      <th>msgType</th>\n      <th>category</th>\n      <th>urgency</th>\n      <th>severity</th>\n      <th>certainty</th>\n      <th>areaDesc</th>\n      <th>polygon</th>\n    </tr>\n  </thead>\n  <tbody>\n    <tr>\n      <th>0</th>\n      <td>https://api.weather.gov/alerts/urn:oid:2.49.0....</td>\n      <td>2024-06-30T19:18:00-04:00</td>\n      <td>2024-06-30T19:18:00-04:00</td>\n      <td>Severe Thunderstorm Warning issued June 30 at ...</td>\n      <td>SVRAKQ\\n\\nThe National Weather Service in Wake...</td>\n      <td>Severe Thunderstorm Warning</td>\n      <td>2024-06-30T19:18:00-04:00</td>\n      <td>2024-06-30T19:18:00-04:00</td>\n      <td>2024-06-30T19:45:00-04:00</td>\n      <td>Actual</td>\n      <td>Alert</td>\n      <td>Met</td>\n      <td>Immediate</td>\n      <td>Severe</td>\n      <td>Observed</td>\n      <td>Caroline, VA; Hanover, VA</td>\n      <td>37.86,-77.59 37.95,-77.4599999 37.81,-77.33 37...</td>\n    </tr>\n    <tr>\n      <th>1</th>\n      <td>https://api.weather.gov/alerts/urn:oid:2.49.0....</td>\n      <td>2024-06-30T19:17:00-04:00</td>\n      <td>2024-06-30T19:17:00-04:00</td>\n      <td>Severe Thunderstorm Warning issued June 30 at ...</td>\n      <td>At 716 PM EDT, a severe thunderstorm was locat...</td>\n      <td>Severe Thunderstorm Warning</td>\n      <td>2024-06-30T19:17:00-04:00</td>\n      <td>2024-06-30T19:17:00-04:00</td>\n      <td>2024-06-30T19:30:00-04:00</td>\n      <td>Actual</td>\n      <td>Update</td>\n      <td>Met</td>\n      <td>Immediate</td>\n      <td>Severe</td>\n      <td>Observed</td>\n      <td>Monmouth, NJ</td>\n      <td>40.13,-73.98 40.22,-74.29 40.25,-74.34 40.43,-...</td>\n    </tr>\n    <tr>\n      <th>2</th>\n      <td>https://api.weather.gov/alerts/urn:oid:2.49.0....</td>\n      <td>2024-06-30T17:16:00-06:00</td>\n      <td>2024-06-30T17:16:00-06:00</td>\n      <td>Severe Thunderstorm Warning issued June 30 at ...</td>\n      <td>SVRBYZ\\n\\nThe National Weather Service in Bill...</td>\n      <td>Severe Thunderstorm Warning</td>\n      <td>2024-06-30T17:16:00-06:00</td>\n      <td>2024-06-30T17:16:00-06:00</td>\n      <td>2024-06-30T17:45:00-06:00</td>\n      <td>Actual</td>\n      <td>Alert</td>\n      <td>Met</td>\n      <td>Immediate</td>\n      <td>Severe</td>\n      <td>Observed</td>\n      <td>Golden Valley, MT; Sweet Grass, MT; Wheatland, MT</td>\n      <td>45.99,-109.98 46.13,-110.2 46.61,-109.67 46.39...</td>\n    </tr>\n    <tr>\n      <th>3</th>\n      <td>https://api.weather.gov/alerts/urn:oid:2.49.0....</td>\n      <td>2024-06-30T18:16:00-05:00</td>\n      <td>2024-06-30T18:16:00-05:00</td>\n      <td>Special Weather Statement issued June 30 at 6:...</td>\n      <td>At 616 PM CDT, Doppler radar was tracking stro...</td>\n      <td>Special Weather Statement</td>\n      <td>2024-06-30T18:16:00-05:00</td>\n      <td>2024-06-30T18:16:00-05:00</td>\n      <td>2024-06-30T18:45:00-05:00</td>\n      <td>Actual</td>\n      <td>Alert</td>\n      <td>Met</td>\n      <td>Expected</td>\n      <td>Moderate</td>\n      <td>Observed</td>\n      <td>Richland; Madison; Franklin; Tensas; Issaquena...</td>\n      <td>32.54,-91.26 32.54,-91.13 32.56,-91.11 32.56,-...</td>\n    </tr>\n    <tr>\n      <th>4</th>\n      <td>https://api.weather.gov/alerts/urn:oid:2.49.0....</td>\n      <td>2024-06-30T19:14:00-04:00</td>\n      <td>2024-06-30T19:14:00-04:00</td>\n      <td>Severe Thunderstorm Warning issued June 30 at ...</td>\n      <td>SVRLWX\\n\\nThe National Weather Service in Ster...</td>\n      <td>Severe Thunderstorm Warning</td>\n      <td>2024-06-30T19:14:00-04:00</td>\n      <td>2024-06-30T19:14:00-04:00</td>\n      <td>2024-06-30T19:45:00-04:00</td>\n      <td>Actual</td>\n      <td>Alert</td>\n      <td>Met</td>\n      <td>Immediate</td>\n      <td>Severe</td>\n      <td>Observed</td>\n      <td>Cecil, MD; Harford, MD</td>\n      <td>39.54,-76.04 39.54,-76.06 39.49,-76.11 39.45,-...</td>\n    </tr>\n    <tr>\n      <th>...</th>\n      <td>...</td>\n      <td>...</td>\n      <td>...</td>\n      <td>...</td>\n      <td>...</td>\n      <td>...</td>\n      <td>...</td>\n      <td>...</td>\n      <td>...</td>\n      <td>...</td>\n      <td>...</td>\n      <td>...</td>\n      <td>...</td>\n      <td>...</td>\n      <td>...</td>\n      <td>...</td>\n      <td>...</td>\n    </tr>\n    <tr>\n      <th>292</th>\n      <td>https://api.weather.gov/alerts/urn:oid:2.49.0....</td>\n      <td>2024-06-30T03:32:00-04:00</td>\n      <td>2024-06-30T03:32:00-04:00</td>\n      <td>Rip Current Statement issued June 30 at 3:32AM...</td>\n      <td>* WHAT...Dangerous rip currents.\\n\\n* WHERE......</td>\n      <td>Rip Current Statement</td>\n      <td>2024-06-30T03:32:00-04:00</td>\n      <td>2024-06-30T03:32:00-04:00</td>\n      <td>2024-06-30T11:45:00-04:00</td>\n      <td>Actual</td>\n      <td>Alert</td>\n      <td>Met</td>\n      <td>Expected</td>\n      <td>Moderate</td>\n      <td>Likely</td>\n      <td>Coastal Gulf</td>\n      <td>None</td>\n    </tr>\n    <tr>\n      <th>293</th>\n      <td>https://api.weather.gov/alerts/urn:oid:2.49.0....</td>\n      <td>2024-06-29T18:52:00-05:00</td>\n      <td>2024-06-29T18:52:00-05:00</td>\n      <td>Heat Advisory issued June 29 at 6:52PM CDT unt...</td>\n      <td>* WHAT...Heat index values up to 112 expected....</td>\n      <td>Heat Advisory</td>\n      <td>2024-06-29T18:52:00-05:00</td>\n      <td>2024-06-29T18:52:00-05:00</td>\n      <td>2024-06-30T03:00:00-05:00</td>\n      <td>Actual</td>\n      <td>Update</td>\n      <td>Met</td>\n      <td>Expected</td>\n      <td>Moderate</td>\n      <td>Likely</td>\n      <td>Williamson; Hays; Travis; Bastrop; Lee; Bexar;...</td>\n      <td>None</td>\n    </tr>\n    <tr>\n      <th>294</th>\n      <td>https://api.weather.gov/alerts/urn:oid:2.49.0....</td>\n      <td>2024-06-28T22:52:00-07:00</td>\n      <td>2024-06-28T22:52:00-07:00</td>\n      <td>Air Quality Alert issued June 28 at 10:52PM MS...</td>\n      <td>AQAPSR\\n\\nThe Arizona Department of Environmen...</td>\n      <td>Air Quality Alert</td>\n      <td>2024-06-28T22:52:00-07:00</td>\n      <td>2024-06-28T22:52:00-07:00</td>\n      <td>2024-06-30T21:00:00-07:00</td>\n      <td>Actual</td>\n      <td>Alert</td>\n      <td>Met</td>\n      <td>Unknown</td>\n      <td>Unknown</td>\n      <td>Unknown</td>\n      <td>Maricopa, AZ</td>\n      <td>None</td>\n    </tr>\n    <tr>\n      <th>295</th>\n      <td>https://api.weather.gov/alerts/urn:oid:2.49.0....</td>\n      <td>2024-06-28T09:04:00-07:00</td>\n      <td>2024-06-28T09:04:00-07:00</td>\n      <td>Air Quality Alert issued June 28 at 9:04AM MST...</td>\n      <td>AQAPSR\\n\\nThe Arizona Department of Environmen...</td>\n      <td>Air Quality Alert</td>\n      <td>2024-06-28T09:04:00-07:00</td>\n      <td>2024-06-28T09:04:00-07:00</td>\n      <td>2024-06-30T21:00:00-07:00</td>\n      <td>Actual</td>\n      <td>Alert</td>\n      <td>Met</td>\n      <td>Unknown</td>\n      <td>Unknown</td>\n      <td>Unknown</td>\n      <td>Maricopa, AZ</td>\n      <td>None</td>\n    </tr>\n    <tr>\n      <th>296</th>\n      <td>https://api.weather.gov/alerts/urn:oid:2.49.0....</td>\n      <td>2024-06-27T16:00:00-07:00</td>\n      <td>2024-06-27T16:00:00-07:00</td>\n      <td>Air Quality Alert issued June 27 at 4:00PM PDT...</td>\n      <td>ISSUED:  06/27/2024 09:00\\nEXPIRES: 07/01/2024...</td>\n      <td>Air Quality Alert</td>\n      <td>2024-06-27T16:00:00-07:00</td>\n      <td>2024-06-27T16:00:00-07:00</td>\n      <td>2024-07-01T11:00:00-07:00</td>\n      <td>Actual</td>\n      <td>Alert</td>\n      <td>Met</td>\n      <td>Unknown</td>\n      <td>Unknown</td>\n      <td>Unknown</td>\n      <td>Fresno, CA; Kern, CA; Madera, CA; Tulare, CA</td>\n      <td>None</td>\n    </tr>\n  </tbody>\n</table>\n<p>297 rows × 17 columns</p>\n</div>",
       "datasetInfos": [],
       "metadata": {},
       "removedWidgets": [],
       "textData": null,
       "type": "htmlSandbox"
      }
     },
     "output_type": "display_data"
    }
   ],
   "source": [
    "# Convert the PySpark DataFrame to a pandas DataFrame\n",
    "alerts_pandas_df = alerts_df.toPandas()\n",
    "alerts_pandas_df\n",
    "\n"
   ]
  },
  {
   "cell_type": "markdown",
   "metadata": {
    "application/vnd.databricks.v1+cell": {
     "cellMetadata": {},
     "inputWidgets": {},
     "nuid": "f4003cc5-9850-4b43-a462-8ee8f52ab330",
     "showTitle": false,
     "title": ""
    }
   },
   "source": [
    "## GeoPandas\n"
   ]
  },
  {
   "cell_type": "code",
   "execution_count": 0,
   "metadata": {
    "application/vnd.databricks.v1+cell": {
     "cellMetadata": {},
     "inputWidgets": {},
     "nuid": "e1d14be5-bd43-4c2e-91b4-6de63dc3f548",
     "showTitle": false,
     "title": ""
    }
   },
   "outputs": [],
   "source": [
    "dbutils.library.installPyPI(\"geopandas\")"
   ]
  },
  {
   "cell_type": "markdown",
   "metadata": {
    "application/vnd.databricks.v1+cell": {
     "cellMetadata": {},
     "inputWidgets": {},
     "nuid": "378ce4a1-abd3-4686-ae10-f92a0663a2d7",
     "showTitle": false,
     "title": ""
    }
   },
   "source": [
    "## Camada Bronze Delta Table"
   ]
  },
  {
   "cell_type": "code",
   "execution_count": 0,
   "metadata": {
    "application/vnd.databricks.v1+cell": {
     "cellMetadata": {},
     "inputWidgets": {},
     "nuid": "6034ecee-bde8-40ff-ad5c-01d6a815325a",
     "showTitle": false,
     "title": ""
    }
   },
   "outputs": [],
   "source": [
    "# Camada Bronze - Raw Data\n",
    "bronze_path = \"/mnt/data/bronze\"\n",
    "\n",
    "# Salvar o DataFrame como uma tabela Delta\n",
    "alerts_df.write.format(\"delta\").mode(\"append\").save(bronze_path)\n"
   ]
  },
  {
   "cell_type": "markdown",
   "metadata": {
    "application/vnd.databricks.v1+cell": {
     "cellMetadata": {},
     "inputWidgets": {},
     "nuid": "b5ce3ae7-14a4-497b-ae71-06e811ed5e51",
     "showTitle": false,
     "title": ""
    }
   },
   "source": [
    "## Camada Silver Delta Table"
   ]
  },
  {
   "cell_type": "code",
   "execution_count": 0,
   "metadata": {
    "application/vnd.databricks.v1+cell": {
     "cellMetadata": {},
     "inputWidgets": {},
     "nuid": "371e8bce-0c9f-4b67-9b70-01b2c7bfe456",
     "showTitle": false,
     "title": ""
    }
   },
   "outputs": [],
   "source": [
    "# Camada Silver - Cleaned and Transformed Data\n",
    "silver_path = \"/mnt/data/silver\"\n",
    "\n",
    "# Transformações, se necessário (exemplo simplificado)\n",
    "silver_df = alerts_df.select(\"id\", \"updated\", \"published\", \"title\", \"event\", \"category\")\n",
    "\n",
    "# Salvar o DataFrame transformado como uma tabela Delta\n",
    "silver_df.write.format(\"delta\").mode(\"overwrite\").save(silver_path)\n"
   ]
  },
  {
   "cell_type": "markdown",
   "metadata": {
    "application/vnd.databricks.v1+cell": {
     "cellMetadata": {},
     "inputWidgets": {},
     "nuid": "b11bbf32-0b4c-4ef9-8ddd-b619b164eace",
     "showTitle": false,
     "title": ""
    }
   },
   "source": [
    "## Camada Gold Delta Table"
   ]
  },
  {
   "cell_type": "code",
   "execution_count": 0,
   "metadata": {
    "application/vnd.databricks.v1+cell": {
     "cellMetadata": {},
     "inputWidgets": {},
     "nuid": "7cab1c3b-3402-4ddb-9294-bde338c10834",
     "showTitle": false,
     "title": ""
    }
   },
   "outputs": [],
   "source": [
    "# Camada Gold - Enriched Data\n",
    "gold_path = \"/mnt/data/gold\"\n",
    "\n",
    "# Enriquecimento dos dados (exemplo simplificado)\n",
    "gold_df = alerts_df.withColumn(\"full_title\", alerts_df[\"title\"] + \" - \" + alerts_df[\"event\"])\n",
    "\n",
    "# Salvar o DataFrame enriquecido como uma tabela Delta\n",
    "gold_df.write.format(\"delta\").mode(\"overwrite\").save(gold_path)"
   ]
  }
 ],
 "metadata": {
  "application/vnd.databricks.v1+notebook": {
   "dashboards": [],
   "environmentMetadata": null,
   "language": "python",
   "notebookMetadata": {
    "pythonIndentUnit": 4
   },
   "notebookName": "Weather Alerts",
   "widgets": {}
  }
 },
 "nbformat": 4,
 "nbformat_minor": 0
}
