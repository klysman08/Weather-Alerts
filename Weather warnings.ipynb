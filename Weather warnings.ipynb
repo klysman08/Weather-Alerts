{
 "cells": [
  {
   "cell_type": "code",
   "execution_count": null,
   "metadata": {
    "application/vnd.databricks.v1+cell": {
     "cellMetadata": {},
     "inputWidgets": {},
     "nuid": "4f61a70d-386d-4b6d-8db1-e6601139ad9d",
     "showTitle": false,
     "title": ""
    }
   },
   "outputs": [],
   "source": [
    "#In this project you will create a data pipeline that ingests wather warnings "
   ]
  },
  {
   "cell_type": "code",
   "execution_count": null,
   "metadata": {
    "application/vnd.databricks.v1+cell": {
     "cellMetadata": {},
     "inputWidgets": {},
     "nuid": "9ad0d0f4-bcdb-465b-9a0b-981a733f4572",
     "showTitle": false,
     "title": ""
    }
   },
   "outputs": [],
   "source": [
    "\"\"\" Input:\n",
    "https://alerts.weather.gov/cap/us.php?x=0 \n",
    "fips6 location codes to translate warining location into region, state and county \"\"\""
   ]
  },
  {
   "cell_type": "code",
   "execution_count": null,
   "metadata": {
    "application/vnd.databricks.v1+cell": {
     "cellMetadata": {},
     "inputWidgets": {},
     "nuid": "d5ee3fb5-dce6-45ae-a70d-77830dd01d7e",
     "showTitle": false,
     "title": ""
    }
   },
   "outputs": [],
   "source": [
    "\"\"\" Create a bronze delta  table to where every batch of data is appended\n",
    "Create a silver delta table where waning data is merge\n",
    "Create a gold delta table where warning location is enriched\n",
    "\n",
    "The pipeline should both consider initial and incremental loads \"\"\""
   ]
  },
  {
   "cell_type": "code",
   "execution_count": null,
   "metadata": {
    "application/vnd.databricks.v1+cell": {
     "cellMetadata": {},
     "inputWidgets": {},
     "nuid": "2079c9f5-ecf5-40db-b609-3acbad523ab1",
     "showTitle": false,
     "title": ""
    }
   },
   "outputs": [],
   "source": [
    "\"\"\" Create some visuals (charts) to analyse the data :\n",
    "Some examples:\n",
    " - Counts by state, county, date, type of alert\n",
    " - What alerts are currently active \"\"\"\n",
    " "
   ]
  },
  {
   "cell_type": "code",
   "execution_count": null,
   "metadata": {},
   "outputs": [],
   "source": []
  }
 ],
 "metadata": {
  "application/vnd.databricks.v1+notebook": {
   "dashboards": [],
   "language": "python",
   "notebookMetadata": {
    "pythonIndentUnit": 4
   },
   "notebookName": "Weather warnings",
   "widgets": {}
  },
  "language_info": {
   "name": "python"
  }
 },
 "nbformat": 4,
 "nbformat_minor": 0
}
